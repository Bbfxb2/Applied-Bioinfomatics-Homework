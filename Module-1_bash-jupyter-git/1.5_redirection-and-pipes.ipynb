{
 "cells": [
  {
   "cell_type": "markdown",
   "metadata": {},
   "source": [
    "# 1.5 Redirection and pipes\n",
    "\n",
    "This notebook will demonstrate how to use redirection and pipes to store the outputs of a command in a file and/or to chain commands in a sequence."
   ]
  },
  {
   "cell_type": "code",
   "execution_count": 11,
   "metadata": {},
   "outputs": [
    {
     "name": "stdout",
     "output_type": "stream",
     "text": [
      "0\n"
     ]
    }
   ],
   "source": [
    "%%bash\n",
    "grep artist data/art/artists.txt | grep -ls 'Dutch artists' | wc -l"
   ]
  },
  {
   "cell_type": "markdown",
   "metadata": {},
   "source": [
    "#### How many txt files are in `data/tmp`?\n",
    "```\n",
    "%%bash\n",
    "ls data/tmp/*.txt | wc -l\n",
    "```"
   ]
  },
  {
   "cell_type": "markdown",
   "metadata": {},
   "source": [
    "#### save list of txt files in `data/tmp` to a file list, and append the list of files in `data/art`.\n",
    "Find and correct the error...\n",
    "```\n",
    "%%bash\n",
    "ls data/tmp/*.txt > file_list.txt\n",
    "ls data/art > file_list.txt\n",
    "```"
   ]
  },
  {
   "cell_type": "markdown",
   "metadata": {},
   "source": [
    "#### Count the number of painters in `artists.txt` after filtering out the French painters\n",
    "```\n",
    "%%bash\n",
    "grep painter data/art/artists.txt | grep -v 'French painter' | wc -l\n",
    "```"
   ]
  },
  {
   "cell_type": "code",
   "execution_count": 12,
   "metadata": {},
   "outputs": [
    {
     "name": "stdout",
     "output_type": "stream",
     "text": [
      "89\n"
     ]
    }
   ],
   "source": [
    "%%bash \n",
    "grep painter data/art/artists.txt | grep -v 'French painter' | wc -l\n"
   ]
  },
  {
   "cell_type": "markdown",
   "metadata": {},
   "source": [
    "## Homework"
   ]
  },
  {
   "cell_type": "markdown",
   "metadata": {},
   "source": [
    "### HW1: Count the number of Dutch artists that are not from Amsterdam."
   ]
  },
  {
   "cell_type": "code",
   "execution_count": 17,
   "metadata": {},
   "outputs": [
    {
     "name": "stdout",
     "output_type": "stream",
     "text": [
      "7\n"
     ]
    }
   ],
   "source": [
    "%%bash \n",
    "grep artist data/art/artists.txt | grep -v 'Amsterdam' | wc -l\n"
   ]
  },
  {
   "cell_type": "markdown",
   "metadata": {},
   "source": [
    "### HW2: Sort the Italian painters in `artists.txt` by last name."
   ]
  },
  {
   "cell_type": "code",
   "execution_count": 40,
   "metadata": {},
   "outputs": [
    {
     "name": "stdout",
     "output_type": "stream",
     "text": [
      "ABBATE, Niccolò dell'\t(1509-1571)\tMannerism\tItalian painter (Bologna)\n",
      "ABBATI, Giuseppe\t(1836-1868)\tRealism\tItalian painter\n",
      "ABBATINI, Guido Ubaldo\t(c. 1602-1656)\tBaroque\tItalian painter (Rome)\n",
      "ADEMOLLO, Luigi\t(1764-1849)\tNeoclassicism\tItalian painter (Florence)\n",
      "ALBA, Macrino d'\t(c. 1460-c. 1528)\tEarly Renaissance\tItalian painter (Alba)\n",
      "ALBANI, Francesco\t(1578-1660)\tBaroque\tItalian painter (Bologna)\n",
      "ALBEREGNO, Jacobello\t(died before1397)\tMedieval\tItalian painter (Venice)\n",
      "ALBERTI, Antonio\t(c. 1390-c. 1442)\tEarly Renaissance\tItalian painter (Urbino)\n",
      "ALBERTI, Cherubino\t(1553-1615)\tMannerism\tItalian painter (Rome)\n",
      "ALBERTI, Giovanni\t(1558-1601)\tMannerism\tItalian painter (Rome)\n",
      "ALBERTINELLI, Mariotto\t(1474-1515)\tEarly Renaissance\tItalian painter (Florence)\n",
      "TADDEO DI BARTOLO\t(1362/63-1422)\tMedieval\tItalian painter (Siena)\n",
      "TAMAGNI, Vincenzo\t(1492-1530)\tHigh Renaissance\tItalian painter (San Gimignano)\n",
      "TANZIO DA VARALLO\t(c. 1580-c. 1632)\tBaroque\tItalian painter\n",
      "TARCHIANI, Filippo\t(1576-1645)\tBaroque\tItalian painter (Florence)\n",
      "TARUFFI, Emilio\t(1633-1696)\tBaroque\tItalian painter (Bologna)\n",
      "TASSI, Agostino\t(1578-1644)\tBaroque\tItalian painter (Rome)\n",
      "TEDESCO, Carlo (see SFERINI, Carlo Leopoldo)\t(1652-1698)\tBaroque\tItalian painter (Verona)\n",
      "TEDESCO, Giovanni Paolo (see SCHOR, Johann Paul)\t(1615-1674)\tBaroque\tItalian painter (Rome)\n",
      "TEMPESTA, Antonio\t(1555-1630)\tBaroque\tItalian painter (Florence)\n",
      "TERRENI, Giuseppe Maria\t(1739-1811)\tNeoclassicism\tItalian painter (Livorno)\n",
      "TERZIO, Francesco\t(c. 1523-1591)\tMannerism\tItalian painter (Vienna)\n",
      "TESTA, Pietro\t(1611-1650)\tBaroque\tItalian painter (Rome)\n"
     ]
    }
   ],
   "source": [
    "%%bash\n",
    "grep \"Italian painter\" data/art/artists.txt | sort "
   ]
  },
  {
   "cell_type": "markdown",
   "metadata": {},
   "source": [
    "### HW3: Count how many Italian sculptors are *either* from the Medieval period or the Baroque period."
   ]
  },
  {
   "cell_type": "code",
   "execution_count": 46,
   "metadata": {},
   "outputs": [
    {
     "name": "stdout",
     "output_type": "stream",
     "text": [
      "KILIAN, Wolfgang|(1581-1662)|Baroque|German graphic artist (Augsburg)\n",
      "KINSOEN, François-Joseph|(1771-1839)|Romanticism|Flemish painter\n",
      "KISS, August Karl Edouard|(1802-1865)|Romanticism|German sculptor\n",
      "KISS, Bálint|(1802-1868)|Romanticism|Hungarian painter (Pest)\n",
      "KLEINER, Salomon|(1703-1761)|Baroque|German graphic artist\n",
      "KLENZE, Leo von|(1784-1864)|Romanticism|German architect\n",
      "KLESECKER, Justus (see GLESKER, Justus)|(c. 1615-1678)|Baroque|German sculptor (Franconia)\n",
      "KLINGER, Max|(1857-1920)|Realism|German painter\n",
      "KLOCKER, Hans|(active 1478-1500l)|Northern Renaissance|Austrian sculptor (South Tyrol)\n",
      "KLODT, Mikhail Konstantinovich|(c. 1832-1902)|Realism|Russian painter (St. Petersburg)\n",
      "KLODT, Pyotr Karlovich|(1805-1867)|Romanticism|Russian sculptor (St. Petersburg)\n",
      "TACCA, Ferdinando|(1619-c. 1688)|Baroque|Italian sculptor (Florence)\n",
      "TACCA, Pietro|(1577-1640)|Baroque|Italian sculptor (Florence)\n",
      "TACCONE, Paolo (see PAOLO ROMANO)|(c. 1415-c. 1470)|Early Renaissance|Italian sculptor (Rome)\n",
      "TADDEO DI BARTOLO|(1362/63-1422)|Medieval|Italian painter (Siena)\n",
      "TADDEO DI FERRARA (see CRIVELLI, Taddeo)|(active 1451-c. 1479)|Early Renaissance|Italian illuminator (Ferrara)\n",
      "TADOLINI, Scipione|(1822-1892)|Realism|Italian sculptor (Rome)\n",
      "TALENTI, Francesco|(c. 1300-after 1369)|Medieval|Italian architect (Florence)\n",
      "TALENTI, Simone|(c. 1330-after 1383)|Medieval|Italian architect (Florence)\n",
      "TALPA, Bartolo|(active c. 1495)|Early Renaissance|Italian sculptor (Mantua)\n",
      "TAMAGNI, Vincenzo|(1492-1530)|High Renaissance|Italian painter (San Gimignano)\n",
      "TAMAGNINO, Antonio (see PORTA, Antonio della)|(active 1489–1519)|Early Renaissance|Italian sculptor\n",
      "TAMM, Franz Werner von|(1658-1724)|Baroque|German painter\n",
      "TANZIO DA VARALLO|(c. 1580-c. 1632)|Baroque|Italian painter\n",
      "TARAVAL, Guillaume-Thomas-Raphaël|(1701-1750)|Baroque|French painter (Stockholm)\n",
      "TARAVAL, Hugues|(1729-1785)|Rococo|French painter (Paris)\n",
      "TARAVAL, Louis-Gustave|(1738-1794)|Neoclassicism|French graphic artist\n",
      "TARBELL, Edmund Charles|(1862-1938)|Impressionism|American painter\n",
      "TARCHIANI, Filippo|(1576-1645)|Baroque|Italian painter (Florence)\n",
      "TARDIEU, Nicolas-Henry|(1674-1749)|Baroque|French graphic artist (Paris)\n",
      "TARGONE, Cesare|(active 1575-1590)|Mannerism|Italian goldsmith\n",
      "TARSIA, Antonio|(c. 1662-1739)|Baroque|Austrian sculptor (Venice)\n",
      "TARUFFI, Emilio|(1633-1696)|Baroque|Italian painter (Bologna)\n",
      "TASSAERT, Jean-Pierre-Antoine|(1727-1788)|Rococo|Flemish sculptor\n",
      "TASSAERT, Octave|(1800-1874)|Romanticism|French painter\n",
      "TASSEL, Jean|(1608-1667)|Baroque|French painter (Langres)\n",
      "TASSI, Agostino|(1578-1644)|Baroque|Italian painter (Rome)\n",
      "TAUNAY, Nicolas Antoine|(1755-1830)|Rococo|French painter\n",
      "TEDESCO, Carlo (see SFERINI, Carlo Leopoldo)|(1652-1698)|Baroque|Italian painter (Verona)\n",
      "TEDESCO, Giovanni Paolo (see SCHOR, Johann Paul)|(1615-1674)|Baroque|Italian painter (Rome)\n",
      "TEERLINC, Levina|c. 1515-1576)|Mannerism|Flemish miniaturist (London)\n",
      "TELEPY, Károly|(1828-1906)|Romanticism|Hungarian painter\n",
      "TEMANZA, Tommaso|(1705-1789)|Rococo|Italian architect (Venice)\n",
      "TEMPEL, Abraham van den|(1622/23-1672)|Baroque|Dutch painter (Amsterdam)\n",
      "TEMPESTA, Antonio|(1555-1630)|Baroque|Italian painter (Florence)\n",
      "TEMPESTA, Pietro (see MULIER, Pieter the Younger)|(1637-1701)|Baroque|Dutch painter (Italy)\n",
      "TENERANI, Pietro|(1789-1869)|Neoclassicism|Italian sculptor\n",
      "TENGNAGEL, Jan|(1584-1635)|Baroque|Dutch painter (Amsterdam)\n",
      "TENIERS, Abraham|(1629-1670)|Baroque|Flemish painter (Antwerp)\n",
      "TENIERS, David the Elder|(1582-1649)|Baroque|Flemish painter (Antwerp)\n",
      "TENIERS, David the Younger|(1610-1690)|Baroque|Flemish painter (Antwerp)\n",
      "TERBORCH, Gerard|(1617-1681)|Baroque|Dutch painter (Deventer)\n",
      "TERBRUGGHEN, Hendrick|(1588-1629)|Baroque|Dutch painter (Utrecht)\n",
      "TERILLI, Francesco|(active 1610-1630)|Baroque|Italian sculptor (Feltre)\n",
      "TERRENI, Giuseppe Maria|(1739-1811)|Neoclassicism|Italian painter (Livorno)\n",
      "TERZIO, Francesco|(c. 1523-1591)|Mannerism|Italian painter (Vienna)\n",
      "TESSIN, Nicodemus the Elder|(1615-1681)|Baroque|Swedish architect (Stockholm)\n",
      "TESSIN, Nicodemus the Younger|(1654-1728)|Baroque|Swedish architect (Stockholm)\n",
      "TESTA, Pietro|(1611-1650)|Baroque|Italian painter (Rome)\n",
      "TESTELIN, Henri|(1616-1695)|Baroque|French painter\n",
      "TETRODE, Willem Danielsz van|(c. 1525-c. 1587)|Mannerism|Netherlandish sculptor\n",
      "KNEBEL, Franz|(1809-1877)|Romanticism|Swiss painter (Rome)\n",
      "KNELLER, Sir Godfrey|(1646-1723)|Baroque|English painter\n",
      "KNIJFF, Jacob|(1639-1681)|Baroque|Dutch painter (London)\n",
      "KNIJFF, Wouter|(c. 1607-after 1693)|Baroque|Dutch painter (Haarlem)\n",
      "KNIP, Henriëtte|(1821-1909)|Realism|Dutch painter (Brussels)\n",
      "KNIP, Henriëtte Geertruida|(1783-1842)|Romanticism|Dutch painter\n",
      "KNIP, Josephus Augustus|(1777-1847)|Romanticism|Dutch painter\n",
      "KNIP, Mattheus Derk|(1785-1845)|Romanticism|Dutch painter\n",
      "KNIP, Nicolaas Frederik|(1741-1808)|Rococo|Dutch painter\n",
      "KNOBELSDORFF, Georg Wenceslaus von|(1699-1753)|Baroque|German architect (Berlin)\n",
      "KNOLLER, Martin|(1725-1804)|Neoclassicism|Austrian painter (Italy)\n",
      "KNÜPFER, Nicolaus|(c. 1603-1655)|Baroque|Dutch painter\n",
      "KNYFF, Jacob (see KNIJFF, Jacob)|(1639-1681)|Baroque|Dutch painter (London)\n",
      "KNYFF, Wouter (see KNIJFF, Wouter)|(c. 1607-after 1693)|Baroque|Dutch painter (Haarlem)\n",
      "KOBELL, Franz|(1749-1822)|Rococo|German painter (Munich)\n",
      "KOBELL, Hendrik|(1751-1779)|Rococo|Dutch painter (Rotterdam)\n",
      "KOBELL, Jan I|(1755-1833)|Rococo|Dutch graphic artist (Rotterdam)\n",
      "KOBELL, Jan II|(1778-1814)|Neoclassicism|Dutch painter\n",
      "KOBELL, Wilhelm von|(1766-1853)|Romanticism|German painter\n",
      "KOBERGER, Anton|(c. 1440-1513)|Northern Renaissance|German graphic artist (Nuremberg)\n",
      "KŘBKE, Christen|(1810-1848)|Romanticism|Danish painter\n",
      "KOCH, Joseph Anton|(1768-1839)|Romanticism|Austrian painter\n",
      "KOEBERGER, Wenzel (see COBERGHER, Wenceslas)|(c. 1560-1634)|Baroque|Flemish architect\n",
      "KOEDIJCK, Isaack|(c. 1617-c. 1668)|Baroque|Dutch painter (Amsterdam)\n",
      "KOEKKOEK, Barend Cornelis|(1803-1862)|Romanticism|Dutch painter\n",
      "KOERBECKE, Johann|(c. 1420-1490)|Northern Renaissance|German painter (Münster)\n",
      "KOETS, Roelof|(c. 1592-1655)|Baroque|Dutch painter (Haarlem)\n",
      "KOKORINOV, Alexander Filippovich|(1726-1772)|Baroque|Russian architect (St. Petersburg)\n",
      "KOLBE, Carl Wilhelm|(1759-1835)|Neoclassicism|German painter\n",
      "KOLLONITSCH, Christian|(1730-1802)|Rococo|Austrian painter (Vienna)\n",
      "KOLUNIĆ, Martin (see ROTA, Martino)|(c. 1520-1583)|Mannerism|Other painter (Vienna)\n",
      "KOMPE, Jan ten (see COMPE, Jan ten)|(1713-1761)|Baroque|Dutch painter (Amsterdam)\n",
      "KÖNIG, Johann|(1586-1642)|Baroque|German painter (Augsburg)\n",
      "KONINCK, Daniël de|(1668-after 1720)|Baroque|Dutch painter (London)\n",
      "KONINCK, David de (see CONINCK, David de)|(c. 1644-c. 1701)|Baroque|Flemish painter\n",
      "KONINCK, Philips|(1619-1688)|Baroque|Dutch painter (Amsterdam)\n",
      "KONINCK, Salomon|(1609-1656)|Baroque|Dutch painter (Amsterdam)\n",
      "KONRAD von Soest|(active 1394-1422)|Northern Renaissance|German painter (Westphalie)\n",
      "KOPISCH, August|(1799-1853)|Romanticism|German painter (Berlin)\n",
      "AACHEN, Hans von|(1552-1615)|Mannerism|German painter\n",
      "AAGAARD, Carl Frederik|(1833-1895)|Realism|Danish painter (Copenhagen)\n",
      "ABADIA, Juan de la|(active 1470-1490)|Early Renaissance|Spanish painter (Huesca)\n",
      "ABAQUESNE, Masséot|(c 1500-1564)|High Renaissance|French potter\n",
      "ABBATE, Niccolò dell'|(1509-1571)|Mannerism|Italian painter (Bologna)\n",
      "ABBATI, Giuseppe|(1836-1868)|Realism|Italian painter\n",
      "ABBATINI, Guido Ubaldo|(c. 1602-1656)|Baroque|Italian painter (Rome)\n",
      "ABBONDI, Antonio di Pietro (see SCARPAGNINO)|(c. 1465-1549)|High Renaissance|Italian architect (Venice)\n",
      "ABEELE, Pieter van|(1608-1684)|Baroque|Dutch sculptor (Amsterdam)\n",
      "ABILDGAARD, Nicolai|(1743-1809)|Romanticism|Danish painter\n",
      "ABONDIO, Antonio|(1538-1591)|Mannerism|Italian sculptor (Vienna)\n",
      "ACERO Y AREBO, Vicente|(c. 1677-1739)|Baroque|Spanish architect\n",
      "ACHENBACH, Oswald|(1827-1905)|Realism|German painter (Dusseldorf)\n",
      "ADAM, Albrecht|(1786-1862)|Romanticism|German painter (Munich)\n",
      "ADAM, Lambert-Sigisbert|(1700-1759)|Baroque|French sculptor (Nancy)\n",
      "ADAM, Nicolas-Sébastien|(1705-1778)|Baroque|French sculptor (Nancy)\n",
      "ADAM, Robert|(1728-1792)|Baroque|Scottish architect (London)\n",
      "ADAM-SALOMON, Antoine-Samuel|(1818-1881)|Realism|French sculptor (Paris)\n",
      "ADELCRANTZ, Carl Fredrik|(1716-1796)|Neoclassicism|Swedish architect\n",
      "ADEMOLLO, Luigi|(1764-1849)|Neoclassicism|Italian painter (Florence)\n",
      "ADLER, Salomon|(1630-1709)|Baroque|German painter (Milan)\n",
      "ADOLFZOON, Christoph (see ADOLPHI, Christoffel)|(c. 1631-1680)|Baroque|Dutch sculptor (Amsterdam)\n",
      "ADOLPHI, Christoffel|(c. 1631-1680)|Baroque|Dutch sculptor (Amsterdam)\n",
      "ADRIAEN VAN UTRECHT (see UTRECHT, Adriaen van)|(1599-1652)|Baroque|Flemish painter\n",
      "ADRIAENSSEN, Alexander|(1587-1661)|Baroque|Flemish painter (Antwerp)\n",
      "ADRIANO FIORENTINO|(ca. 1455-1499)|Early Renaissance|Italian sculptor (Florence)\n",
      "AELST, Willem van|(1627-c. 1683)|Baroque|Dutch painter (Delft)\n",
      "AENVANCK, Theodoor|(1633-1690)|Baroque|Flemish painter (Antwerp)\n",
      "AERT VAN ORT|(active 1490-1536)|Northern Renaissance|Flemish glass painter\n",
      "AERTSEN, Pieter|(1508-1575)|Northern Renaissance|Netherlandish painter (Amsterdam)\n",
      "AGASSE, Jacques-Laurent|(1767-1849)|Neoclassicism|Swiss painter (London)\n",
      "AGNOLO DA SIENA (see AGNOLO DI VENTURA)|(active 1311-1349)|Medieval|Italian sculptor (Siena)\n",
      "AGNOLO DI POLO|(c. 1470-after 1498)|Early Renaissance|Italian sculptor (Florence)\n",
      "AGNOLO DI VENTURA|(active 1311-1349)|Medieval|Italian sculptor (Siena)\n",
      "AGOSTINO DI DUCCIO|(1418-1481)|Early Renaissance|Italian sculptor (Rimini)\n",
      "AGOSTINO DI GIOVANNI|(active 1310-1347)|Medieval|Italian sculptor (Siena)\n",
      "AGOSTINO VENEZIANO (see MUSI, Agostino dei)|(c. 1490-c. 1536)|High Renaissance|Italian graphic artist\n",
      "AGRATE, Gian Francesco Ferrari d'|(1489-c. 1563)|High Renaissance|Italian sculptor (Parma)\n",
      "AGUADO LÓPEZ, Antonio|(1764-1831)|Neoclassicism|Spanish architect (Madrid)\n",
      "AIVAZOVSKY, Ivan Konstantinovich|(1817-1900)|Realism|Russian painter\n",
      "AKEN, Joseph van|(c. 1699-1749)|Rococo|Flemish painter (London)\n",
      "AKOTANTOS, Angelos|(?-c. 1457)|Medieval|Greek painter (Crete)\n",
      "ALBA, Macrino d'|(c. 1460-c. 1528)|Early Renaissance|Italian painter (Alba)\n",
      "ALBANI, Francesco|(1578-1660)|Baroque|Italian painter (Bologna)\n",
      "ALBEREGNO, Jacobello|(died before1397)|Medieval|Italian painter (Venice)\n",
      "ALBERTI, Antonio|(c. 1390-c. 1442)|Early Renaissance|Italian painter (Urbino)\n",
      "ALBERTI, Cherubino|(1553-1615)|Mannerism|Italian painter (Rome)\n",
      "ALBERTI, Giovanni|(1558-1601)|Mannerism|Italian painter (Rome)\n",
      "ALBERTI, Leon Battista|(1404-1472)|Early Renaissance|Italian architect\n",
      "ALBERTINELLI, Mariotto|(1474-1515)|Early Renaissance|Italian painter (Florence)\n"
     ]
    }
   ],
   "source": [
    "%%bash\n",
    "\n",
    "cat data/art/artists.txt | sed 's/\\t/|/g' | column -s 'n'\n"
   ]
  },
  {
   "cell_type": "code",
   "execution_count": 7,
   "metadata": {
    "scrolled": true
   },
   "outputs": [
    {
     "name": "stdout",
     "output_type": "stream",
     "text": [
      "total 44\n",
      "-rw-rw-rw- 1 bbfxb2 bbfxb2  3530 Sep 11 08:08 1.3_jupyter-basics.ipynb\n",
      "-rw-rw-rw- 1 bbfxb2 bbfxb2  3012 Sep 11 08:08 1.4_working-with-files.ipynb\n",
      "-rw-rw-rw- 1 bbfxb2 bbfxb2 22606 Sep 13 09:33 1.5_redirection-and-pipes.ipynb\n",
      "-rw-rw-rw- 1 bbfxb2 bbfxb2  8033 Sep 11 09:48 1.6_awk.ipynb\n",
      "drwxrwxrwx 1 bbfxb2 bbfxb2  4096 Sep 11 08:08 data\n",
      "-rw-rw-rw- 1 bbfxb2 bbfxb2    21 Sep 11 08:46 file_list.txt\n"
     ]
    }
   ],
   "source": [
    "%%bash\n",
    "grep \"Italian sculptor\" data/art/artists.txt | grep \"Medieval, Baroque\" | ls -l\n"
   ]
  },
  {
   "cell_type": "code",
   "execution_count": 37,
   "metadata": {},
   "outputs": [
    {
     "name": "stdout",
     "output_type": "stream",
     "text": [
      "UNIQ(1)                          User Commands                         UNIQ(1)\n",
      "\n",
      "NAME\n",
      "       uniq - report or omit repeated lines\n",
      "\n",
      "SYNOPSIS\n",
      "       uniq [OPTION]... [INPUT [OUTPUT]]\n",
      "\n",
      "DESCRIPTION\n",
      "       Filter  adjacent matching lines from INPUT (or standard input), writing\n",
      "       to OUTPUT (or standard output).\n",
      "\n",
      "       With no options, matching lines are merged to the first occurrence.\n",
      "\n",
      "       Mandatory arguments to long options are  mandatory  for  short  options\n",
      "       too.\n",
      "\n",
      "       -c, --count\n",
      "              prefix lines by the number of occurrences\n",
      "\n",
      "       -d, --repeated\n",
      "              only print duplicate lines, one for each group\n",
      "\n",
      "       -D     print all duplicate lines\n",
      "\n",
      "       --all-repeated[=METHOD]\n",
      "              like  -D,  but  allow  separating  groups  with  an  empty line;\n",
      "              METHOD={none(default),prepend,separate}\n",
      "\n",
      "       -f, --skip-fields=N\n",
      "              avoid comparing the first N fields\n",
      "\n",
      "       --group[=METHOD]\n",
      "              show  all  items,  separating  groups  with   an   empty   line;\n",
      "              METHOD={separate(default),prepend,append,both}\n",
      "\n",
      "       -i, --ignore-case\n",
      "              ignore differences in case when comparing\n",
      "\n",
      "       -s, --skip-chars=N\n",
      "              avoid comparing the first N characters\n",
      "\n",
      "       -u, --unique\n",
      "              only print unique lines\n",
      "\n",
      "       -z, --zero-terminated\n",
      "              line delimiter is NUL, not newline\n",
      "\n",
      "       -w, --check-chars=N\n",
      "              compare no more than N characters in lines\n",
      "\n",
      "       --help display this help and exit\n",
      "\n",
      "       --version\n",
      "              output version information and exit\n",
      "\n",
      "       A field is a run of blanks (usually spaces and/or TABs), then non-blank\n",
      "       characters.  Fields are skipped before chars.\n",
      "\n",
      "       Note: 'uniq' does not detect repeated lines unless they  are  adjacent.\n",
      "       You  may want to sort the input first, or use 'sort -u' without 'uniq'.\n",
      "       Also, comparisons honor the rules specified by 'LC_COLLATE'.\n",
      "\n",
      "AUTHOR\n",
      "       Written by Richard M. Stallman and David MacKenzie.\n",
      "\n",
      "REPORTING BUGS\n",
      "       GNU coreutils online help: <http://www.gnu.org/software/coreutils/>\n",
      "       Report uniq translation bugs to <http://translationproject.org/team/>\n",
      "\n",
      "COPYRIGHT\n",
      "       Copyright © 2017 Free Software Foundation, Inc.   License  GPLv3+:  GNU\n",
      "       GPL version 3 or later <http://gnu.org/licenses/gpl.html>.\n",
      "       This  is  free  software:  you  are free to change and redistribute it.\n",
      "       There is NO WARRANTY, to the extent permitted by law.\n",
      "\n",
      "SEE ALSO\n",
      "       comm(1), join(1), sort(1)\n",
      "\n",
      "       Full documentation at: <http://www.gnu.org/software/coreutils/uniq>\n",
      "       or available locally via: info '(coreutils) uniq invocation'\n",
      "\n",
      "GNU coreutils 8.28               January 2018                          UNIQ(1)\n"
     ]
    }
   ],
   "source": [
    "%%bash\n",
    "man uniq"
   ]
  },
  {
   "cell_type": "code",
   "execution_count": 36,
   "metadata": {},
   "outputs": [
    {
     "name": "stdout",
     "output_type": "stream",
     "text": [
      "(1581-1662)\n",
      "Baroque\n",
      "Early Renaissance\n",
      "High Renaissance\n",
      "Impressionism\n",
      "Mannerism\n",
      "Medieval\n",
      "Neoclassicism\n",
      "Northern Renaissance\n",
      "Realism\n",
      "Rococo\n",
      "Romanticism\n"
     ]
    }
   ],
   "source": [
    "%%bash \n",
    "awk '{FS=\"\\t\";print $3}' data/art/artists.txt | sort | uniq"
   ]
  }
 ],
 "metadata": {
  "kernelspec": {
   "display_name": "Python 3",
   "language": "python",
   "name": "python3"
  },
  "language_info": {
   "codemirror_mode": {
    "name": "ipython",
    "version": 3
   },
   "file_extension": ".py",
   "mimetype": "text/x-python",
   "name": "python",
   "nbconvert_exporter": "python",
   "pygments_lexer": "ipython3",
   "version": "3.6.5"
  }
 },
 "nbformat": 4,
 "nbformat_minor": 2
}
